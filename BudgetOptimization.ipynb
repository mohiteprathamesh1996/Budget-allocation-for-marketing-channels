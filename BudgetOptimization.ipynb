{
 "cells": [
  {
   "cell_type": "markdown",
   "metadata": {},
   "source": [
    "#### Importing packages"
   ]
  },
  {
   "cell_type": "code",
   "execution_count": 8,
   "metadata": {},
   "outputs": [],
   "source": [
    "import random\n",
    "import pandas as pd\n",
    "from tqdm import tqdm\n",
    "import matplotlib.pyplot as plt\n",
    "import seaborn as sns\n",
    "import numpy as np\n",
    "import itertools\n",
    "import re\n",
    "from pulp import *\n",
    "\n",
    "import warnings\n",
    "warnings.filterwarnings(\"ignore\")"
   ]
  },
  {
   "cell_type": "markdown",
   "metadata": {},
   "source": [
    "#### Load data"
   ]
  },
  {
   "cell_type": "code",
   "execution_count": 2,
   "metadata": {},
   "outputs": [
    {
     "data": {
      "text/html": [
       "<div>\n",
       "<style scoped>\n",
       "    .dataframe tbody tr th:only-of-type {\n",
       "        vertical-align: middle;\n",
       "    }\n",
       "\n",
       "    .dataframe tbody tr th {\n",
       "        vertical-align: top;\n",
       "    }\n",
       "\n",
       "    .dataframe thead th {\n",
       "        text-align: right;\n",
       "    }\n",
       "</style>\n",
       "<table border=\"1\" class=\"dataframe\">\n",
       "  <thead>\n",
       "    <tr style=\"text-align: right;\">\n",
       "      <th></th>\n",
       "      <th>Return on Investment</th>\n",
       "    </tr>\n",
       "    <tr>\n",
       "      <th>Marketing Channels</th>\n",
       "      <th></th>\n",
       "    </tr>\n",
       "  </thead>\n",
       "  <tbody>\n",
       "    <tr>\n",
       "      <th>Television</th>\n",
       "      <td>0.08</td>\n",
       "    </tr>\n",
       "    <tr>\n",
       "      <th>Google</th>\n",
       "      <td>0.12</td>\n",
       "    </tr>\n",
       "    <tr>\n",
       "      <th>Twitter</th>\n",
       "      <td>0.07</td>\n",
       "    </tr>\n",
       "    <tr>\n",
       "      <th>Facebook</th>\n",
       "      <td>0.11</td>\n",
       "    </tr>\n",
       "    <tr>\n",
       "      <th>YouTube</th>\n",
       "      <td>0.04</td>\n",
       "    </tr>\n",
       "  </tbody>\n",
       "</table>\n",
       "</div>"
      ],
      "text/plain": [
       "                    Return on Investment\n",
       "Marketing Channels                      \n",
       "Television                          0.08\n",
       "Google                              0.12\n",
       "Twitter                             0.07\n",
       "Facebook                            0.11\n",
       "YouTube                             0.04"
      ]
     },
     "execution_count": 2,
     "metadata": {},
     "output_type": "execute_result"
    }
   ],
   "source": [
    "budget = pd.read_excel(\"Advertising Budget.xlsx\")\n",
    "\n",
    "budget.set_index([\"Marketing Channels\"], inplace=True)\n",
    "\n",
    "budget"
   ]
  },
  {
   "cell_type": "markdown",
   "metadata": {},
   "source": [
    "#### Decision variables"
   ]
  },
  {
   "cell_type": "code",
   "execution_count": 3,
   "metadata": {},
   "outputs": [],
   "source": [
    "channels = budget.index.to_list()\n",
    "\n",
    "var_dict = LpVariable.dicts(name=\"Budget\", indexs=channels, lowBound=0, cat=\"Continuous\")"
   ]
  },
  {
   "cell_type": "markdown",
   "metadata": {},
   "source": [
    "#### Objective function"
   ]
  },
  {
   "cell_type": "code",
   "execution_count": 4,
   "metadata": {},
   "outputs": [],
   "source": [
    "model = LpProblem(\"Marketing Budget Allocation\", LpMaximize)\n",
    "\n",
    "model += lpSum([budget.loc[cn, \"Return on Investment\"]*var_dict[cn] for cn in channels])"
   ]
  },
  {
   "cell_type": "markdown",
   "metadata": {},
   "source": [
    "#### Constraints"
   ]
  },
  {
   "cell_type": "code",
   "execution_count": 5,
   "metadata": {},
   "outputs": [],
   "source": [
    "# Constraint_1: Total budget is $100,000\n",
    "model += lpSum([var_dict[cn] for cn in channels]) <= 100000\n",
    "\n",
    "# Constraint_2: Television budget cannot exceed 58% of total budget\n",
    "model += var_dict[\"Television\"] <= 0.58 * lpSum([var_dict[cn] for cn in channels])\n",
    "\n",
    "# Constraint_3: Sum of Google an television advertisement cannot exceed 80% of whole budget\n",
    "model += var_dict[\"Television\"] + var_dict[\"Google\"] <= 0.80 * lpSum([var_dict[cn] for cn in channels])\n",
    "\n",
    "# Constraint_4: Sum of Twitter, Google and YouTube cannot exceed 30% of whole budget\n",
    "model += var_dict[\"Twitter\"] + var_dict[\"Google\"] + var_dict[\"YouTube\"] <= 0.30 * lpSum([var_dict[cn] for cn in channels])\n",
    "\n",
    "# Constraint_5: Facebook budget cannot exceed $10,000\n",
    "model += var_dict[\"Facebook\"] <= 10000"
   ]
  },
  {
   "cell_type": "markdown",
   "metadata": {},
   "source": [
    "#### Solve for optimal solution"
   ]
  },
  {
   "cell_type": "code",
   "execution_count": 15,
   "metadata": {},
   "outputs": [
    {
     "data": {
      "image/png": "[encoded data removed]",
      "text/plain": [
       "<Figure size 720x360 with 1 Axes>"
      ]
     },
     "metadata": {},
     "output_type": "display_data"
    }
   ],
   "source": [
    "model.solve()\n",
    "\n",
    "optimal_solution = pd.DataFrame([(v.name, round(v.varValue, 2)) for v in model.variables() if v.varValue!=0], \n",
    "                                columns=[\"Decision_Variables\", \"Optimized Budget\"]).set_index([\"Decision_Variables\"])\n",
    "\n",
    "optimal_solution.sort_values(by=[\"Optimized Budget\"], inplace=True)\n",
    "\n",
    "\n",
    "sns.set_style(\"darkgrid\")\n",
    "plt.rcParams[\"figure.figsize\"] = (10, 5) \n",
    "plt.rcParams[\"font.size\"] = 12 \n",
    "\n",
    "\n",
    "optimal_solution[\"Optimized Budget\"].plot(kind=\"bar\")\n",
    "\n",
    "plt.xticks(rotation=0)\n",
    "\n",
    "\n",
    "plt.show()"
   ]
  }
 ],
 "metadata": {
  "kernelspec": {
   "display_name": "Python 3",
   "language": "python",
   "name": "python3"
  },
  "language_info": {
   "codemirror_mode": {
    "name": "ipython",
    "version": 3
   },
   "file_extension": ".py",
   "mimetype": "text/x-python",
   "name": "python",
   "nbconvert_exporter": "python",
   "pygments_lexer": "ipython3",
   "version": "3.8.3"
  }
 },
 "nbformat": 4,
 "nbformat_minor": 4
}
