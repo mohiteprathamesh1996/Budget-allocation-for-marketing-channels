{
  "nbformat": 4,
  "nbformat_minor": 0,
  "metadata": {
    "colab": {
      "name": "LPP.ipynb",
      "provenance": [],
      "collapsed_sections": [],
      "authorship_tag": "ABX9TyPnBNnIE+1sqPY9SdTvvpqy",
      "include_colab_link": true
    },
    "kernelspec": {
      "name": "python3",
      "display_name": "Python 3"
    }
  },
  "cells": [
    {
      "cell_type": "markdown",
      "metadata": {
        "id": "view-in-github",
        "colab_type": "text"
      },
      "source": [
        "<a href=\"https://colab.research.google.com/github/mohiteprathamesh1996/Budget-allocation-for-marketing-channels/blob/main/LPP.ipynb\" target=\"_parent\"><img src=\"https://colab.research.google.com/assets/colab-badge.svg\" alt=\"Open In Colab\"/></a>"
      ]
    },
    {
      "cell_type": "markdown",
      "metadata": {
        "id": "5s9mvyMgWhVc"
      },
      "source": [
        "#### Loading dependancies"
      ]
    },
    {
      "cell_type": "code",
      "metadata": {
        "id": "VcmAPSFZfEhv"
      },
      "source": [
        "import pandas as pd\r\n",
        "import numpy as np\r\n",
        "import pandas_datareader as pdr\r\n",
        "import datetime\r\n",
        "import matplotlib.pyplot as plt\r\n",
        "import seaborn as sns\r\n",
        "import warnings\r\n",
        "import requests\r\n",
        "# !pip install PuLP\r\n",
        "# import pulp\r\n",
        "from scipy.optimize import linprog\r\n",
        "import json\r\n",
        "warnings.filterwarnings(\"ignore\")\r\n",
        "plt.style.use('fivethirtyeight')"
      ],
      "execution_count": null,
      "outputs": []
    },
    {
      "cell_type": "markdown",
      "metadata": {
        "id": "JZy2odwy7gqf"
      },
      "source": [
        "#### LP function"
      ]
    },
    {
      "cell_type": "code",
      "metadata": {
        "id": "1kzvqhAIfKBL"
      },
      "source": [
        "def lp_problem(Z, A, b, fn_objective, method):\r\n",
        "  '''\r\n",
        "  Returns results of linear programming problem.\r\n",
        "  \r\n",
        "  Parameters:\r\n",
        "  -----------  \r\n",
        "      Z: list\r\n",
        "          List of objective function coefficients.    \r\n",
        "      \r\n",
        "      A: list  \r\n",
        "          Contraints matrix passed as a list of lists\r\n",
        "\r\n",
        "      fn_objective: str\r\n",
        "          Whether to define the LP Problem as a \"Maximize\" or \"Minimize\"\r\n",
        "\r\n",
        "      method: \"simplex\", \"revised simplex\" or \"interior-point\"\r\n",
        "          Probability of rejecting null hypothesis when it shouldn't be rejected.\r\n",
        "  \r\n",
        "  '''\r\n",
        "  Z = np.array(Z)\r\n",
        "  A = np.array(A)\r\n",
        "  b = np.array(b)\r\n",
        "  \r\n",
        "  if fn_objective==\"Maximize\":\r\n",
        "    Z *= -1\r\n",
        "  \r\n",
        "  res = linprog(Z, A_ub=A, b_ub=b, method=method,)\r\n",
        "  \r\n",
        "  x_vals = pd.DataFrame([round(f,2) for f in res[\"x\"]], \r\n",
        "                        columns=[\"Decision variables\"], \r\n",
        "                        index=[\"x\"+str(i+1) for i in range(len(res[\"x\"]))])\r\n",
        "  print(\"Results of Linear Programming using {} method : \\n\".format(method))\r\n",
        "  if fn_objective==\"Maximize\":\r\n",
        "    print(\"\\nOptimal value achieved at, Z = \",round(-res.fun, 2))\r\n",
        "  else:\r\n",
        "    print(\"\\nOptimal value achieved at, Z = \",round(res.fun, 2))\r\n",
        "  print(\"\\n\",x_vals)\r\n",
        "  print(\"\\nNumber of iterations = \", res.nit)\r\n",
        "  print(\"\\nSolver status : \",res.message,\"\\n\\n*************************************\\n\\n\")"
      ],
      "execution_count": null,
      "outputs": []
    },
    {
      "cell_type": "markdown",
      "metadata": {
        "id": "mPwsHR8eA2EJ"
      },
      "source": [
        "Results for different solvers methods"
      ]
    },
    {
      "cell_type": "code",
      "metadata": {
        "id": "Xwbtsdu5fJ-q",
        "colab": {
          "base_uri": "https://localhost:8080/"
        },
        "outputId": "f05644cb-d255-4648-9b9e-c4c11b9ba2a4"
      },
      "source": [
        "[lp_problem(Z=[0.08, 0.12, 0.07, 0.11, 0.04],\r\n",
        "           \r\n",
        "           A=[[1,1,1,1,1],\r\n",
        "              [0.42,-0.58,-0.58,-0.58,-0.58],\r\n",
        "              [0.2,0.2,-0.8,-0.8,-0.8],\r\n",
        "              [-0.3, 0.7, 0.7, -0.3, 0.7],\r\n",
        "              [0,0,0,1,0],\r\n",
        "              [-1.00,  0.00,  0.00,  0.00,  0.00],\r\n",
        "              [ 0.00, -1.00,  0.00,  0.00,  0.00],\r\n",
        "              [ 0.00,  0.00, -1.00,  0.00,  0.00],\r\n",
        "              [ 0.00,  0.00,  0.00, -1.00,  0.00],\r\n",
        "              [ 0.00,  0.00,  0.00,  0.00, -1.00]],\r\n",
        "           \r\n",
        "           b=[100, 0,0,0,10, 2700,0,0,0,0],\r\n",
        "           fn_objective=\"Maximize\", \r\n",
        "           method=m) for m in [\"simplex\", \"revised simplex\", \"interior-point\"]]"
      ],
      "execution_count": null,
      "outputs": [
        {
          "output_type": "stream",
          "text": [
            "Results of Linear Programming using simplex method : \n",
            "\n",
            "\n",
            "Optimal value achieved at, Z =  7.63\n",
            "\n",
            "     Decision variables\n",
            "x1               48.33\n",
            "x2               18.33\n",
            "x3                6.67\n",
            "x4               10.00\n",
            "x5                0.00\n",
            "\n",
            "Number of iterations =  5\n",
            "\n",
            "Solver status :  Optimization terminated successfully. \n",
            "\n",
            "*************************************\n",
            "\n",
            "\n",
            "Results of Linear Programming using revised simplex method : \n",
            "\n",
            "\n",
            "Optimal value achieved at, Z =  7.63\n",
            "\n",
            "     Decision variables\n",
            "x1               48.33\n",
            "x2               18.33\n",
            "x3                6.67\n",
            "x4               10.00\n",
            "x5                0.00\n",
            "\n",
            "Number of iterations =  5\n",
            "\n",
            "Solver status :  Optimization terminated successfully. \n",
            "\n",
            "*************************************\n",
            "\n",
            "\n",
            "Results of Linear Programming using interior-point method : \n",
            "\n",
            "\n",
            "Optimal value achieved at, Z =  7.63\n",
            "\n",
            "     Decision variables\n",
            "x1               48.33\n",
            "x2               18.33\n",
            "x3                6.67\n",
            "x4               10.00\n",
            "x5                0.00\n",
            "\n",
            "Number of iterations =  6\n",
            "\n",
            "Solver status :  Optimization terminated successfully. \n",
            "\n",
            "*************************************\n",
            "\n",
            "\n"
          ],
          "name": "stdout"
        },
        {
          "output_type": "execute_result",
          "data": {
            "text/plain": [
              "[None, None, None]"
            ]
          },
          "metadata": {
            "tags": []
          },
          "execution_count": 3
        }
      ]
    },
    {
      "cell_type": "code",
      "metadata": {
        "id": "YGvNAeoNXMrz"
      },
      "source": [
        ""
      ],
      "execution_count": null,
      "outputs": []
    },
    {
      "cell_type": "code",
      "metadata": {
        "id": "A9lqmaL9XMpT"
      },
      "source": [
        ""
      ],
      "execution_count": null,
      "outputs": []
    },
    {
      "cell_type": "code",
      "metadata": {
        "id": "OHwFjpTRXMm1"
      },
      "source": [
        ""
      ],
      "execution_count": null,
      "outputs": []
    },
    {
      "cell_type": "code",
      "metadata": {
        "id": "hM7i-XiOXMkU"
      },
      "source": [
        ""
      ],
      "execution_count": null,
      "outputs": []
    },
    {
      "cell_type": "code",
      "metadata": {
        "id": "Ry4G6cGQXMhv"
      },
      "source": [
        ""
      ],
      "execution_count": null,
      "outputs": []
    },
    {
      "cell_type": "code",
      "metadata": {
        "id": "CfPm93IvXMfN"
      },
      "source": [
        ""
      ],
      "execution_count": null,
      "outputs": []
    },
    {
      "cell_type": "code",
      "metadata": {
        "id": "7oEfNHi4XMc9"
      },
      "source": [
        ""
      ],
      "execution_count": null,
      "outputs": []
    },
    {
      "cell_type": "code",
      "metadata": {
        "id": "gyrcKNBDXMaZ"
      },
      "source": [
        ""
      ],
      "execution_count": null,
      "outputs": []
    },
    {
      "cell_type": "code",
      "metadata": {
        "id": "OpzT8vmaXMXt"
      },
      "source": [
        ""
      ],
      "execution_count": null,
      "outputs": []
    },
    {
      "cell_type": "code",
      "metadata": {
        "id": "UtkY9JVAfJ3E"
      },
      "source": [
        ""
      ],
      "execution_count": null,
      "outputs": []
    },
    {
      "cell_type": "code",
      "metadata": {
        "id": "wK39ArwDfJDJ"
      },
      "source": [
        ""
      ],
      "execution_count": null,
      "outputs": []
    }
  ]
}